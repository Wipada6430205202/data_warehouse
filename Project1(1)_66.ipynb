{
  "cells": [
    {
      "cell_type": "markdown",
      "metadata": {
        "id": "view-in-github",
        "colab_type": "text"
      },
      "source": [
        "<a href=\"https://colab.research.google.com/github/Wipada6430205202/data_warehouse/blob/main/Project1(1)_66.ipynb\" target=\"_parent\"><img src=\"https://colab.research.google.com/assets/colab-badge.svg\" alt=\"Open In Colab\"/></a>"
      ]
    },
    {
      "cell_type": "markdown",
      "id": "e3f0f914",
      "metadata": {
        "id": "e3f0f914"
      },
      "source": [
        "# Text Analytics"
      ]
    },
    {
      "cell_type": "markdown",
      "id": "6f8afa7f",
      "metadata": {
        "id": "6f8afa7f"
      },
      "source": [
        "<img src=\"https://www.datanami.com/wp-content/uploads/2014/06/text-analytics.png\" width=\"300\">"
      ]
    },
    {
      "cell_type": "markdown",
      "id": "7866bdbc",
      "metadata": {
        "id": "7866bdbc"
      },
      "source": [
        "## Due Date: Sunday, October 1, 2023\n",
        "<br>\n",
        "<span style=\"color:red\">NOTE: There are always last minute issues submitting the case studies. DO NOT WAIT UNTIL THE LAST MINUTE!</span>"
      ]
    },
    {
      "cell_type": "markdown",
      "id": "830d61bd",
      "metadata": {
        "id": "830d61bd"
      },
      "source": [
        "## List team members:"
      ]
    },
    {
      "cell_type": "markdown",
      "id": "f280656e",
      "metadata": {
        "id": "f280656e"
      },
      "source": [
        "1. <Name> <ID> <Email>\n",
        "2. <Name> <ID> <Email>\n",
        "3. <Name> <ID> <Email>"
      ]
    },
    {
      "cell_type": "markdown",
      "id": "3306068f",
      "metadata": {
        "id": "3306068f"
      },
      "source": [
        "**NOTE1**: Please don't forget to save the notebook frequently when working in IPython Notebook, otherwise the changes you made can be lost\n",
        "\n",
        "**NOTE2**: Create a slide presentation once finished, convert to pdf format, and turn in by one group member only\n",
        "<br>A list of documents to turn in: 1) Jupyter notebook containing results and 2) A set of slides in pdf format"
      ]
    },
    {
      "cell_type": "raw",
      "id": "7d719e86",
      "metadata": {
        "id": "7d719e86"
      },
      "source": [
        "!pip3 install wordcloud"
      ]
    },
    {
      "cell_type": "code",
      "execution_count": 1,
      "id": "1e236d1b",
      "metadata": {
        "id": "1e236d1b"
      },
      "outputs": [],
      "source": [
        "# Load these libraries\n",
        "import json\n",
        "import pprint\n",
        "import pandas as pd\n",
        "from io import StringIO # using StringIO to prevent ValueError\n",
        "from os import path\n",
        "from PIL import Image\n",
        "from wordcloud import WordCloud, STOPWORDS, ImageColorGenerator\n",
        "import urllib.request\n",
        "\n",
        "import matplotlib.pyplot as plt\n",
        "%matplotlib inline"
      ]
    },
    {
      "cell_type": "markdown",
      "id": "f6b4adb1",
      "metadata": {
        "id": "f6b4adb1"
      },
      "source": [
        "## Problem 1: Working with Twitter Data and JSON file"
      ]
    },
    {
      "cell_type": "markdown",
      "id": "b90b2963",
      "metadata": {
        "id": "b90b2963"
      },
      "source": [
        "We are working with a Twitter dataset in JSON format from `thailand_tweets.txt`.<br>\n",
        "The tweets were scraped using \"Thailand\" keyword on August 31, 2022.<br>\n",
        "We are going to examine the dataset and retrieve information from the JSON file.\n",
        "Most Twitter datasets provide only Tweet ID where we can retrieve tweets from tweet ID as follow.\n",
        "```\n",
        "twitter.com/anyuser/status/<tweet_id>\n",
        "```"
      ]
    },
    {
      "cell_type": "markdown",
      "id": "9c5915cc",
      "metadata": {
        "id": "9c5915cc"
      },
      "source": [
        "#### Read JSON file"
      ]
    },
    {
      "cell_type": "code",
      "execution_count": null,
      "id": "a6b52d1f",
      "metadata": {
        "scrolled": false,
        "id": "a6b52d1f"
      },
      "outputs": [],
      "source": [
        "# read the file\n"
      ]
    },
    {
      "cell_type": "code",
      "execution_count": null,
      "id": "cca51f21",
      "metadata": {
        "id": "cca51f21"
      },
      "outputs": [],
      "source": [
        "# inspect the file\n"
      ]
    },
    {
      "cell_type": "markdown",
      "id": "ec2115fb",
      "metadata": {
        "id": "ec2115fb"
      },
      "source": [
        "#### Pretty print json/dict object"
      ]
    },
    {
      "cell_type": "markdown",
      "id": "91864d4a",
      "metadata": {
        "id": "91864d4a"
      },
      "source": [
        "Possible approaches:\n",
        "* In fact, `pandas` has `pandas.read_json(<file_dir>)` function to read json file into dataframe\n",
        "* As we create a data dict, we can also read our data dict into a pandas dataframe"
      ]
    },
    {
      "cell_type": "code",
      "execution_count": null,
      "id": "fa4a5506",
      "metadata": {
        "id": "fa4a5506"
      },
      "outputs": [],
      "source": []
    },
    {
      "cell_type": "markdown",
      "id": "45b0e435",
      "metadata": {
        "id": "45b0e435"
      },
      "source": [
        "### Your report\n",
        "* The total number of tweets collected in the file:\n",
        "* The content of the first tweet:\n",
        "* Is the first tweet contained any hashtags or mentions?\n",
        "* Collect all hashtags related to Thailand from this data\n",
        "* Find the most popular tweets in your collection of tweets, i.e. the tweets with the largest number of retweet/replies/likes counts\n",
        "    * You are free to define your own popularity metric\n",
        "* Display the top 5 tweets that are the most popular among your collection\n",
        "* Create a word cloud of words in the contents; however, we note that this word cloud is not a good representation of Thailand as the data size is small"
      ]
    },
    {
      "cell_type": "code",
      "execution_count": null,
      "id": "9b3dc416",
      "metadata": {
        "scrolled": true,
        "id": "9b3dc416"
      },
      "outputs": [],
      "source": [
        "# ----------------- Your code here -----------------\n",
        "\n"
      ]
    },
    {
      "cell_type": "markdown",
      "id": "c2cf90e5",
      "metadata": {
        "id": "c2cf90e5"
      },
      "source": [
        "Note: ไม่ต้องรายงานส่วนนี้ในสไลด์"
      ]
    },
    {
      "cell_type": "markdown",
      "id": "ccb8731c",
      "metadata": {
        "id": "ccb8731c"
      },
      "source": [
        "## Problem 2 Study Trip Advisor Hotel Reviews Sentiment"
      ]
    },
    {
      "cell_type": "markdown",
      "id": "9da6a800",
      "metadata": {
        "id": "9da6a800"
      },
      "source": [
        "We are working with the Trip Advisor Hotel Reviews dataset. You can see the source from https://www.kaggle.com/datasets/andrewmvd/trip-advisor-hotel-reviews."
      ]
    },
    {
      "cell_type": "markdown",
      "id": "19996e72",
      "metadata": {
        "id": "19996e72"
      },
      "source": [
        "* Analyze the data to find out what make a hotel good or bad\n",
        "<br>You may create a tag of \"positive\", \"negative\", or \"neural\" sentiment first. After tagging each tweet with different sentiment, we can separate positive tweets and negative tweets. Then, it is easier to find our common patterns in positive tweets or good hotels, and vice versa."
      ]
    },
    {
      "cell_type": "code",
      "execution_count": null,
      "id": "3a55e834",
      "metadata": {
        "id": "3a55e834"
      },
      "outputs": [],
      "source": [
        "#----------------------------------------------\n",
        "# Your code starts here\n",
        "# label each tweet as positive, negative, and neural sentiment\n",
        "# combine tweet texts in each type\n",
        "# tokenize texts\n",
        "# convert to lower case\n",
        "# remove stop words\n",
        "# remove any other stop words, like RT\n",
        "# remove punctuations\n",
        "# remove other symbols?\n",
        "# analyze word frequency in each sentiment type and so on\n",
        "# create some data visualization for the analysis and your presentation\n",
        "\n",
        "\n",
        "\n"
      ]
    },
    {
      "cell_type": "code",
      "execution_count": null,
      "id": "c1e78959",
      "metadata": {
        "id": "c1e78959"
      },
      "outputs": [],
      "source": []
    },
    {
      "cell_type": "markdown",
      "id": "0b4cf7eb",
      "metadata": {
        "id": "0b4cf7eb"
      },
      "source": [
        "### Report\n",
        "* How did you analyze the data?\n",
        "* What did you find in the data? (please include figures or tables in the report, but no source code)"
      ]
    },
    {
      "cell_type": "markdown",
      "id": "38795f4f",
      "metadata": {
        "id": "38795f4f"
      },
      "source": [
        "## Problem 3 Collect and Analyze Your Interesting Topic"
      ]
    },
    {
      "cell_type": "markdown",
      "id": "9d03d587",
      "metadata": {
        "id": "9d03d587"
      },
      "source": [
        "* Select a topic that your group members are interested\n",
        "* Gather url from at least 3 webpages\n",
        "* Use urllib.request to retrieve data from webpage\n",
        "* Clean and find intersting patterns and information\n",
        "* Create a word cloud of your topic"
      ]
    },
    {
      "cell_type": "code",
      "execution_count": null,
      "id": "667c35f5",
      "metadata": {
        "id": "667c35f5"
      },
      "outputs": [],
      "source": [
        "#----------------------------------------------\n",
        "# Your code starts here\n",
        "\n",
        "\n"
      ]
    },
    {
      "cell_type": "code",
      "source": [
        "!pip install nltk\n",
        "import nltk"
      ],
      "metadata": {
        "id": "1dgbVNWVHPIT",
        "outputId": "97ac55d1-42c6-40d3-8b9e-04cd4081b465",
        "colab": {
          "base_uri": "https://localhost:8080/"
        }
      },
      "id": "1dgbVNWVHPIT",
      "execution_count": 2,
      "outputs": [
        {
          "output_type": "stream",
          "name": "stdout",
          "text": [
            "Requirement already satisfied: nltk in /usr/local/lib/python3.10/dist-packages (3.8.1)\n",
            "Requirement already satisfied: click in /usr/local/lib/python3.10/dist-packages (from nltk) (8.1.7)\n",
            "Requirement already satisfied: joblib in /usr/local/lib/python3.10/dist-packages (from nltk) (1.3.2)\n",
            "Requirement already satisfied: regex>=2021.8.3 in /usr/local/lib/python3.10/dist-packages (from nltk) (2023.6.3)\n",
            "Requirement already satisfied: tqdm in /usr/local/lib/python3.10/dist-packages (from nltk) (4.66.1)\n"
          ]
        }
      ]
    },
    {
      "cell_type": "code",
      "source": [
        "import urllib.request"
      ],
      "metadata": {
        "id": "-H7oHkziHYVM"
      },
      "id": "-H7oHkziHYVM",
      "execution_count": 3,
      "outputs": []
    },
    {
      "cell_type": "code",
      "source": [
        "data1 =  urllib.request.urlopen('https://newsinhealth.nih.gov/2021/02/chocolate-health-claims')\n",
        "data2 =  urllib.request.urlopen('https://www.medicalnewstoday.com/articles/270272')\n",
        "data3 =  urllib.request.urlopen('https://www.healthline.com/nutrition/7-health-benefits-dark-chocolate')\n",
        "\n",
        "data1\n",
        "data2\n",
        "data3"
      ],
      "metadata": {
        "id": "ujvR4J2GHhSc",
        "outputId": "77b2a27e-8646-4933-a659-a3996f90ccbb",
        "colab": {
          "base_uri": "https://localhost:8080/"
        }
      },
      "id": "ujvR4J2GHhSc",
      "execution_count": 5,
      "outputs": [
        {
          "output_type": "execute_result",
          "data": {
            "text/plain": [
              "<http.client.HTTPResponse at 0x79fda6c30e20>"
            ]
          },
          "metadata": {},
          "execution_count": 5
        }
      ]
    },
    {
      "cell_type": "code",
      "source": [
        "html_1 = data1.read()\n",
        "html_2 = data2.read()\n",
        "html_3 = data3.read()"
      ],
      "metadata": {
        "id": "8dVGoNHUH4c_"
      },
      "id": "8dVGoNHUH4c_",
      "execution_count": 6,
      "outputs": []
    },
    {
      "cell_type": "code",
      "source": [
        "nltk.download('stopwords')\n",
        "from nltk.corpus import stopwords\n",
        "sr = set(stopwords.words('english'))"
      ],
      "metadata": {
        "id": "1Hl_iQjgKq1H",
        "outputId": "f3c147e6-58a7-467a-853a-e2be68156d54",
        "colab": {
          "base_uri": "https://localhost:8080/"
        }
      },
      "id": "1Hl_iQjgKq1H",
      "execution_count": 7,
      "outputs": [
        {
          "output_type": "stream",
          "name": "stderr",
          "text": [
            "[nltk_data] Downloading package stopwords to /root/nltk_data...\n",
            "[nltk_data]   Unzipping corpora/stopwords.zip.\n"
          ]
        }
      ]
    },
    {
      "cell_type": "code",
      "source": [
        "sr"
      ],
      "metadata": {
        "id": "C0lUaCDQKuP1",
        "outputId": "24233d32-1a15-4648-b8d6-36192e7adbba",
        "colab": {
          "base_uri": "https://localhost:8080/"
        }
      },
      "id": "C0lUaCDQKuP1",
      "execution_count": 8,
      "outputs": [
        {
          "output_type": "execute_result",
          "data": {
            "text/plain": [
              "{'a',\n",
              " 'about',\n",
              " 'above',\n",
              " 'after',\n",
              " 'again',\n",
              " 'against',\n",
              " 'ain',\n",
              " 'all',\n",
              " 'am',\n",
              " 'an',\n",
              " 'and',\n",
              " 'any',\n",
              " 'are',\n",
              " 'aren',\n",
              " \"aren't\",\n",
              " 'as',\n",
              " 'at',\n",
              " 'be',\n",
              " 'because',\n",
              " 'been',\n",
              " 'before',\n",
              " 'being',\n",
              " 'below',\n",
              " 'between',\n",
              " 'both',\n",
              " 'but',\n",
              " 'by',\n",
              " 'can',\n",
              " 'couldn',\n",
              " \"couldn't\",\n",
              " 'd',\n",
              " 'did',\n",
              " 'didn',\n",
              " \"didn't\",\n",
              " 'do',\n",
              " 'does',\n",
              " 'doesn',\n",
              " \"doesn't\",\n",
              " 'doing',\n",
              " 'don',\n",
              " \"don't\",\n",
              " 'down',\n",
              " 'during',\n",
              " 'each',\n",
              " 'few',\n",
              " 'for',\n",
              " 'from',\n",
              " 'further',\n",
              " 'had',\n",
              " 'hadn',\n",
              " \"hadn't\",\n",
              " 'has',\n",
              " 'hasn',\n",
              " \"hasn't\",\n",
              " 'have',\n",
              " 'haven',\n",
              " \"haven't\",\n",
              " 'having',\n",
              " 'he',\n",
              " 'her',\n",
              " 'here',\n",
              " 'hers',\n",
              " 'herself',\n",
              " 'him',\n",
              " 'himself',\n",
              " 'his',\n",
              " 'how',\n",
              " 'i',\n",
              " 'if',\n",
              " 'in',\n",
              " 'into',\n",
              " 'is',\n",
              " 'isn',\n",
              " \"isn't\",\n",
              " 'it',\n",
              " \"it's\",\n",
              " 'its',\n",
              " 'itself',\n",
              " 'just',\n",
              " 'll',\n",
              " 'm',\n",
              " 'ma',\n",
              " 'me',\n",
              " 'mightn',\n",
              " \"mightn't\",\n",
              " 'more',\n",
              " 'most',\n",
              " 'mustn',\n",
              " \"mustn't\",\n",
              " 'my',\n",
              " 'myself',\n",
              " 'needn',\n",
              " \"needn't\",\n",
              " 'no',\n",
              " 'nor',\n",
              " 'not',\n",
              " 'now',\n",
              " 'o',\n",
              " 'of',\n",
              " 'off',\n",
              " 'on',\n",
              " 'once',\n",
              " 'only',\n",
              " 'or',\n",
              " 'other',\n",
              " 'our',\n",
              " 'ours',\n",
              " 'ourselves',\n",
              " 'out',\n",
              " 'over',\n",
              " 'own',\n",
              " 're',\n",
              " 's',\n",
              " 'same',\n",
              " 'shan',\n",
              " \"shan't\",\n",
              " 'she',\n",
              " \"she's\",\n",
              " 'should',\n",
              " \"should've\",\n",
              " 'shouldn',\n",
              " \"shouldn't\",\n",
              " 'so',\n",
              " 'some',\n",
              " 'such',\n",
              " 't',\n",
              " 'than',\n",
              " 'that',\n",
              " \"that'll\",\n",
              " 'the',\n",
              " 'their',\n",
              " 'theirs',\n",
              " 'them',\n",
              " 'themselves',\n",
              " 'then',\n",
              " 'there',\n",
              " 'these',\n",
              " 'they',\n",
              " 'this',\n",
              " 'those',\n",
              " 'through',\n",
              " 'to',\n",
              " 'too',\n",
              " 'under',\n",
              " 'until',\n",
              " 'up',\n",
              " 've',\n",
              " 'very',\n",
              " 'was',\n",
              " 'wasn',\n",
              " \"wasn't\",\n",
              " 'we',\n",
              " 'were',\n",
              " 'weren',\n",
              " \"weren't\",\n",
              " 'what',\n",
              " 'when',\n",
              " 'where',\n",
              " 'which',\n",
              " 'while',\n",
              " 'who',\n",
              " 'whom',\n",
              " 'why',\n",
              " 'will',\n",
              " 'with',\n",
              " 'won',\n",
              " \"won't\",\n",
              " 'wouldn',\n",
              " \"wouldn't\",\n",
              " 'y',\n",
              " 'you',\n",
              " \"you'd\",\n",
              " \"you'll\",\n",
              " \"you're\",\n",
              " \"you've\",\n",
              " 'your',\n",
              " 'yours',\n",
              " 'yourself',\n",
              " 'yourselves'}"
            ]
          },
          "metadata": {},
          "execution_count": 8
        }
      ]
    },
    {
      "cell_type": "code",
      "source": [
        "sr + [\"a\"]"
      ],
      "metadata": {
        "id": "YGA2P-0mKw2L",
        "outputId": "4c9c8d85-5e5b-4e5c-f3cf-d8ed23079235",
        "colab": {
          "base_uri": "https://localhost:8080/",
          "height": 177
        }
      },
      "id": "YGA2P-0mKw2L",
      "execution_count": 9,
      "outputs": [
        {
          "output_type": "error",
          "ename": "TypeError",
          "evalue": "ignored",
          "traceback": [
            "\u001b[0;31m---------------------------------------------------------------------------\u001b[0m",
            "\u001b[0;31mTypeError\u001b[0m                                 Traceback (most recent call last)",
            "\u001b[0;32m<ipython-input-9-8ef41eeaa456>\u001b[0m in \u001b[0;36m<cell line: 1>\u001b[0;34m()\u001b[0m\n\u001b[0;32m----> 1\u001b[0;31m \u001b[0msr\u001b[0m \u001b[0;34m+\u001b[0m \u001b[0;34m[\u001b[0m\u001b[0;34m\"a\"\u001b[0m\u001b[0;34m]\u001b[0m\u001b[0;34m\u001b[0m\u001b[0;34m\u001b[0m\u001b[0m\n\u001b[0m",
            "\u001b[0;31mTypeError\u001b[0m: unsupported operand type(s) for +: 'set' and 'list'"
          ]
        }
      ]
    },
    {
      "cell_type": "markdown",
      "id": "40357580",
      "metadata": {
        "id": "40357580"
      },
      "source": [
        "### Report\n",
        "* What did you find out about your topic? (please include figures or tables in the report, but no source code)"
      ]
    },
    {
      "cell_type": "markdown",
      "id": "8a13de1d",
      "metadata": {
        "id": "8a13de1d"
      },
      "source": [
        "# ☃️ The End of Project 1 ☃️"
      ]
    }
  ],
  "metadata": {
    "kernelspec": {
      "display_name": "Python 3 (ipykernel)",
      "language": "python",
      "name": "python3"
    },
    "language_info": {
      "codemirror_mode": {
        "name": "ipython",
        "version": 3
      },
      "file_extension": ".py",
      "mimetype": "text/x-python",
      "name": "python",
      "nbconvert_exporter": "python",
      "pygments_lexer": "ipython3",
      "version": "3.8.8"
    },
    "colab": {
      "provenance": [],
      "toc_visible": true,
      "include_colab_link": true
    }
  },
  "nbformat": 4,
  "nbformat_minor": 5
}